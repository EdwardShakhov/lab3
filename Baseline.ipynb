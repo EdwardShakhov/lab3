{
 "cells": [
  {
   "cell_type": "code",
   "execution_count": 33,
   "metadata": {},
   "outputs": [],
   "source": [
    "# path to your train/test/meta folders\n",
    "DATA_PATH = 'C:/Users/e_shakhov/Desktop/itmo-event-detection/'\n",
    "\n",
    "# names of valuable files/folders\n",
    "train_meta_fname = 'C:/Users/e_shakhov/Desktop/itmo-event-detection/train.csv'\n",
    "test_meta_fname = 'C:/Users/e_shakhov/Desktop/itmo-event-detection/sample_submission.csv'\n",
    "train_data_folder = 'C:/Users/e_shakhov/Desktop/itmo-event-detection/audio_train/train'\n",
    "test_data_folder = 'C:/Users/e_shakhov/Desktop/itmo-event-detection/audio_test/test'"
   ]
  },
  {
   "cell_type": "code",
   "execution_count": 34,
   "metadata": {},
   "outputs": [],
   "source": [
    "import numpy as np\n",
    "import os\n",
    "import pandas as pd\n",
    "import torch\n",
    "import torch.nn as nn\n",
    "import torch.nn.functional as F\n",
    "from torch.utils.data import Dataset\n",
    "from torch.utils.data import DataLoader\n",
    "import torchaudio\n",
    "import torchvision\n",
    "from torchaudio import transforms\n",
    "from efficientnet_pytorch import EfficientNet\n",
    "from sklearn.model_selection import train_test_split\n",
    "from sklearn.metrics import f1_score\n",
    "from tqdm import tqdm"
   ]
  },
  {
   "cell_type": "code",
   "execution_count": 35,
   "metadata": {},
   "outputs": [],
   "source": [
    "# set seeds\n",
    "import random\n",
    "import numpy as np\n",
    "\n",
    "random.seed(42)\n",
    "np.random.seed(42)\n",
    "torch.manual_seed(42)\n",
    "torch.cuda.manual_seed(42)\n",
    "torch.backends.cudnn.deterministic = True"
   ]
  },
  {
   "cell_type": "code",
   "execution_count": 36,
   "metadata": {},
   "outputs": [
    {
     "data": {
      "text/html": [
       "<div>\n",
       "<style scoped>\n",
       "    .dataframe tbody tr th:only-of-type {\n",
       "        vertical-align: middle;\n",
       "    }\n",
       "\n",
       "    .dataframe tbody tr th {\n",
       "        vertical-align: top;\n",
       "    }\n",
       "\n",
       "    .dataframe thead th {\n",
       "        text-align: right;\n",
       "    }\n",
       "</style>\n",
       "<table border=\"1\" class=\"dataframe\">\n",
       "  <thead>\n",
       "    <tr style=\"text-align: right;\">\n",
       "      <th></th>\n",
       "      <th>fname</th>\n",
       "      <th>label</th>\n",
       "    </tr>\n",
       "  </thead>\n",
       "  <tbody>\n",
       "    <tr>\n",
       "      <th>0</th>\n",
       "      <td>8bcbcc394ba64fe85ed4.wav</td>\n",
       "      <td>Finger_snapping</td>\n",
       "    </tr>\n",
       "    <tr>\n",
       "      <th>1</th>\n",
       "      <td>00d77b917e241afa06f1.wav</td>\n",
       "      <td>Squeak</td>\n",
       "    </tr>\n",
       "  </tbody>\n",
       "</table>\n",
       "</div>"
      ],
      "text/plain": [
       "                      fname            label\n",
       "0  8bcbcc394ba64fe85ed4.wav  Finger_snapping\n",
       "1  00d77b917e241afa06f1.wav           Squeak"
      ]
     },
     "execution_count": 36,
     "metadata": {},
     "output_type": "execute_result"
    }
   ],
   "source": [
    "df_train = pd.read_csv(os.path.join(DATA_PATH, train_meta_fname))\n",
    "df_test = pd.read_csv(os.path.join(DATA_PATH, test_meta_fname))\n",
    "df_train.head(2)"
   ]
  },
  {
   "cell_type": "code",
   "execution_count": 37,
   "metadata": {},
   "outputs": [
    {
     "name": "stdout",
     "output_type": "stream",
     "text": [
      "41\n"
     ]
    },
    {
     "data": {
      "text/html": [
       "<div>\n",
       "<style scoped>\n",
       "    .dataframe tbody tr th:only-of-type {\n",
       "        vertical-align: middle;\n",
       "    }\n",
       "\n",
       "    .dataframe tbody tr th {\n",
       "        vertical-align: top;\n",
       "    }\n",
       "\n",
       "    .dataframe thead th {\n",
       "        text-align: right;\n",
       "    }\n",
       "</style>\n",
       "<table border=\"1\" class=\"dataframe\">\n",
       "  <thead>\n",
       "    <tr style=\"text-align: right;\">\n",
       "      <th></th>\n",
       "      <th>fname</th>\n",
       "      <th>label</th>\n",
       "      <th>label_encoded</th>\n",
       "    </tr>\n",
       "  </thead>\n",
       "  <tbody>\n",
       "    <tr>\n",
       "      <th>0</th>\n",
       "      <td>8bcbcc394ba64fe85ed4.wav</td>\n",
       "      <td>Finger_snapping</td>\n",
       "      <td>0</td>\n",
       "    </tr>\n",
       "    <tr>\n",
       "      <th>1</th>\n",
       "      <td>00d77b917e241afa06f1.wav</td>\n",
       "      <td>Squeak</td>\n",
       "      <td>1</td>\n",
       "    </tr>\n",
       "    <tr>\n",
       "      <th>2</th>\n",
       "      <td>17bb93b73b8e79234cb3.wav</td>\n",
       "      <td>Electric_piano</td>\n",
       "      <td>2</td>\n",
       "    </tr>\n",
       "    <tr>\n",
       "      <th>3</th>\n",
       "      <td>7d5c7a40a936136da55e.wav</td>\n",
       "      <td>Harmonica</td>\n",
       "      <td>3</td>\n",
       "    </tr>\n",
       "    <tr>\n",
       "      <th>4</th>\n",
       "      <td>17e0ee7565a33d6c2326.wav</td>\n",
       "      <td>Snare_drum</td>\n",
       "      <td>4</td>\n",
       "    </tr>\n",
       "  </tbody>\n",
       "</table>\n",
       "</div>"
      ],
      "text/plain": [
       "                      fname            label  label_encoded\n",
       "0  8bcbcc394ba64fe85ed4.wav  Finger_snapping              0\n",
       "1  00d77b917e241afa06f1.wav           Squeak              1\n",
       "2  17bb93b73b8e79234cb3.wav   Electric_piano              2\n",
       "3  7d5c7a40a936136da55e.wav        Harmonica              3\n",
       "4  17e0ee7565a33d6c2326.wav       Snare_drum              4"
      ]
     },
     "execution_count": 37,
     "metadata": {},
     "output_type": "execute_result"
    }
   ],
   "source": [
    "n_classes = df_train.label.nunique()\n",
    "print(n_classes)\n",
    "classes_dict = {cl:i for i,cl in enumerate(df_train.label.unique())}\n",
    "df_train['label_encoded'] = df_train.label.map(classes_dict)\n",
    "df_train.head()"
   ]
  },
  {
   "cell_type": "code",
   "execution_count": 38,
   "metadata": {},
   "outputs": [],
   "source": [
    "# https://github.com/lukemelas/EfficientNet-PyTorch\n",
    "class BaseLineModel(nn.Module):\n",
    "    \n",
    "    def __init__(self, sample_rate=16000, n_classes=41):\n",
    "        super().__init__()\n",
    "        self.ms = torchaudio.transforms.MelSpectrogram(sample_rate)\n",
    "#         self.bn1 = nn.BatchNorm2d(1)\n",
    "        \n",
    "        self.cnn1 = nn.Conv2d(in_channels=1, out_channels=10, kernel_size=3, padding=1)\n",
    "        self.cnn3 = nn.Conv2d(in_channels=10, out_channels=3, kernel_size=3, padding=1)\n",
    "        \n",
    "        self.features = EfficientNet.from_pretrained('efficientnet-b0')\n",
    "        # use it as features\n",
    "#         for param in self.features.parameters():\n",
    "#             param.requires_grad = False\n",
    "            \n",
    "        self.lin1 = nn.Linear(1000, 333)\n",
    "        \n",
    "        self.lin2 = nn.Linear(333, 111)\n",
    "                \n",
    "        self.lin3 = nn.Linear(111, n_classes)\n",
    "        \n",
    "    def forward(self, x):\n",
    "        x = self.ms(x)\n",
    "#         x = self.bn1(x)\n",
    "                \n",
    "        x = F.relu(self.cnn1(x))\n",
    "        x = F.relu(self.cnn3(x))\n",
    "        \n",
    "        x = self.features(x)\n",
    "\n",
    "        x = x.view(x.shape[0], -1)\n",
    "        x = F.relu(x)\n",
    "        \n",
    "        x = F.relu(self.lin1(x))\n",
    "        x = F.relu(self.lin2(x))\n",
    "        x = self.lin3(x)\n",
    "        return x\n",
    "    \n",
    "    def inference(self, x):\n",
    "        x = self.forward(x)\n",
    "        x = F.softmax(x)\n",
    "        return x"
   ]
  },
  {
   "cell_type": "code",
   "execution_count": 39,
   "metadata": {},
   "outputs": [],
   "source": [
    "def sample_or_pad(waveform, wav_len=32000):\n",
    "    m, n = waveform.shape\n",
    "    if n < wav_len:\n",
    "        padded_wav = torch.zeros(1, wav_len)\n",
    "        padded_wav[:, :n] = waveform\n",
    "        return padded_wav\n",
    "    elif n > wav_len:\n",
    "        offset = np.random.randint(0, n - wav_len)\n",
    "        sampled_wav = waveform[:, offset:offset+wav_len]\n",
    "        return sampled_wav\n",
    "    else:\n",
    "        return waveform\n",
    "        \n",
    "class EventDetectionDataset(Dataset):\n",
    "    def __init__(self, data_path, x, y=None):\n",
    "        self.x = x\n",
    "        self.y = y\n",
    "        self.data_path = data_path\n",
    "    \n",
    "    def __len__(self):\n",
    "        return len(self.x)\n",
    "\n",
    "    def __getitem__(self, idx):\n",
    "        path2wav = os.path.join(self.data_path, self.x[idx])\n",
    "        waveform, sample_rate = torchaudio.load(path2wav, normalization=True)\n",
    "        waveform = sample_or_pad(waveform)\n",
    "        if self.y is not None:\n",
    "            return waveform, self.y[idx]\n",
    "        return waveform"
   ]
  },
  {
   "cell_type": "code",
   "execution_count": 40,
   "metadata": {},
   "outputs": [],
   "source": [
    "X_train, X_val, y_train, y_val = train_test_split(df_train.fname.values, df_train.label_encoded.values, \n",
    "                                                  test_size=0.2, random_state=42)\n",
    "train_loader = DataLoader(\n",
    "                        EventDetectionDataset(os.path.join(DATA_PATH, train_data_folder), X_train, y_train),\n",
    "                        batch_size=41\n",
    "                )\n",
    "val_loader = DataLoader(\n",
    "                        EventDetectionDataset(os.path.join(DATA_PATH, train_data_folder), X_val, y_val),\n",
    "                        batch_size=41\n",
    "                )\n",
    "test_loader = DataLoader(\n",
    "                        EventDetectionDataset(os.path.join(DATA_PATH, test_data_folder), df_test.fname.values, None),\n",
    "                        batch_size=41, shuffle=False\n",
    "                )"
   ]
  },
  {
   "cell_type": "code",
   "execution_count": 41,
   "metadata": {},
   "outputs": [],
   "source": [
    "def eval_model(model, eval_dataset):\n",
    "    model.eval()\n",
    "    forecast, true_labs = [], []\n",
    "    with torch.no_grad():\n",
    "        for wavs, labs in tqdm(eval_dataset):\n",
    "            wavs, labs = wavs.cuda(), labs.detach().numpy()\n",
    "            true_labs.append(labs)\n",
    "            outputs = model.inference(wavs)\n",
    "            \n",
    "            outputs = outputs.detach().cpu().numpy().argmax(axis=1)\n",
    "            forecast.append(outputs)\n",
    "    forecast = [x for sublist in forecast for x in sublist]\n",
    "    true_labs = [x for sublist in true_labs for x in sublist]\n",
    "    return f1_score(forecast, true_labs, average='macro')"
   ]
  },
  {
   "cell_type": "code",
   "execution_count": 42,
   "metadata": {},
   "outputs": [
    {
     "name": "stderr",
     "output_type": "stream",
     "text": [
      "Downloading: \"https://github.com/lukemelas/EfficientNet-PyTorch/releases/download/1.0/efficientnet-b0-355c32eb.pth\" to C:\\Users\\e_shakhov/.cache\\torch\\checkpoints\\efficientnet-b0-355c32eb.pth\n"
     ]
    },
    {
     "data": {
      "application/vnd.jupyter.widget-view+json": {
       "model_id": "84d72e17a3e042239c9ce56c862cb125",
       "version_major": 2,
       "version_minor": 0
      },
      "text/plain": [
       "HBox(children=(FloatProgress(value=0.0, max=21388428.0), HTML(value='')))"
      ]
     },
     "metadata": {},
     "output_type": "display_data"
    },
    {
     "name": "stdout",
     "output_type": "stream",
     "text": [
      "\n",
      "Loaded pretrained weights for efficientnet-b0\n"
     ]
    }
   ],
   "source": [
    "criterion = nn.CrossEntropyLoss()\n",
    "model = BaseLineModel()\n",
    "model = model.cuda()\n",
    "lr = 1e-3\n",
    "\n",
    "optimizer = torch.optim.Adam(model.parameters(), lr=lr)"
   ]
  },
  {
   "cell_type": "code",
   "execution_count": 43,
   "metadata": {},
   "outputs": [
    {
     "name": "stderr",
     "output_type": "stream",
     "text": [
      "100%|████████████████████████████████████████████████████████████████████████████████| 111/111 [00:34<00:00,  3.24it/s]\n",
      "  0%|                                                                                           | 0/28 [00:00<?, ?it/s]C:\\Users\\e_shakhov\\Anaconda3\\lib\\site-packages\\ipykernel_launcher.py:42: UserWarning: Implicit dimension choice for softmax has been deprecated. Change the call to include dim=X as an argument.\n",
      "100%|██████████████████████████████████████████████████████████████████████████████████| 28/28 [00:04<00:00,  6.77it/s]\n",
      "100%|████████████████████████████████████████████████████████████████████████████████| 111/111 [00:06<00:00, 16.24it/s]\n",
      "  0%|                                                                                          | 0/111 [00:00<?, ?it/s]"
     ]
    },
    {
     "name": "stdout",
     "output_type": "stream",
     "text": [
      "epoch: 0, f1_test: 0.1107954048750393, f1_train: 0.11146642957446136\n"
     ]
    },
    {
     "name": "stderr",
     "output_type": "stream",
     "text": [
      "100%|████████████████████████████████████████████████████████████████████████████████| 111/111 [00:20<00:00,  5.55it/s]\n",
      "100%|██████████████████████████████████████████████████████████████████████████████████| 28/28 [00:01<00:00, 16.62it/s]\n",
      "100%|████████████████████████████████████████████████████████████████████████████████| 111/111 [00:06<00:00, 16.03it/s]\n",
      "  0%|                                                                                          | 0/111 [00:00<?, ?it/s]"
     ]
    },
    {
     "name": "stdout",
     "output_type": "stream",
     "text": [
      "epoch: 1, f1_test: 0.2808825477863589, f1_train: 0.3287722123178967\n"
     ]
    },
    {
     "name": "stderr",
     "output_type": "stream",
     "text": [
      "100%|████████████████████████████████████████████████████████████████████████████████| 111/111 [00:20<00:00,  5.54it/s]\n",
      "100%|██████████████████████████████████████████████████████████████████████████████████| 28/28 [00:01<00:00, 16.21it/s]\n",
      "100%|████████████████████████████████████████████████████████████████████████████████| 111/111 [00:06<00:00, 16.02it/s]\n",
      "  0%|                                                                                          | 0/111 [00:00<?, ?it/s]"
     ]
    },
    {
     "name": "stdout",
     "output_type": "stream",
     "text": [
      "epoch: 2, f1_test: 0.2095779038372565, f1_train: 0.23793891897690644\n"
     ]
    },
    {
     "name": "stderr",
     "output_type": "stream",
     "text": [
      "100%|████████████████████████████████████████████████████████████████████████████████| 111/111 [00:19<00:00,  5.55it/s]\n",
      "100%|██████████████████████████████████████████████████████████████████████████████████| 28/28 [00:01<00:00, 15.68it/s]\n",
      "100%|████████████████████████████████████████████████████████████████████████████████| 111/111 [00:07<00:00, 15.86it/s]\n",
      "  0%|                                                                                          | 0/111 [00:00<?, ?it/s]"
     ]
    },
    {
     "name": "stdout",
     "output_type": "stream",
     "text": [
      "epoch: 3, f1_test: 0.2965406483722458, f1_train: 0.35824132206234793\n"
     ]
    },
    {
     "name": "stderr",
     "output_type": "stream",
     "text": [
      "100%|████████████████████████████████████████████████████████████████████████████████| 111/111 [00:19<00:00,  5.58it/s]\n",
      "100%|██████████████████████████████████████████████████████████████████████████████████| 28/28 [00:01<00:00, 16.04it/s]\n",
      "100%|████████████████████████████████████████████████████████████████████████████████| 111/111 [00:06<00:00, 15.91it/s]\n",
      "  0%|                                                                                          | 0/111 [00:00<?, ?it/s]"
     ]
    },
    {
     "name": "stdout",
     "output_type": "stream",
     "text": [
      "epoch: 4, f1_test: 0.47703647964636287, f1_train: 0.5699576421227371\n"
     ]
    },
    {
     "name": "stderr",
     "output_type": "stream",
     "text": [
      "100%|████████████████████████████████████████████████████████████████████████████████| 111/111 [00:20<00:00,  5.53it/s]\n",
      "100%|██████████████████████████████████████████████████████████████████████████████████| 28/28 [00:01<00:00, 16.13it/s]\n",
      "100%|████████████████████████████████████████████████████████████████████████████████| 111/111 [00:06<00:00, 15.88it/s]\n",
      "  0%|                                                                                          | 0/111 [00:00<?, ?it/s]"
     ]
    },
    {
     "name": "stdout",
     "output_type": "stream",
     "text": [
      "epoch: 5, f1_test: 0.49213312807243065, f1_train: 0.6059951830640066\n"
     ]
    },
    {
     "name": "stderr",
     "output_type": "stream",
     "text": [
      "100%|████████████████████████████████████████████████████████████████████████████████| 111/111 [00:20<00:00,  5.43it/s]\n",
      "100%|██████████████████████████████████████████████████████████████████████████████████| 28/28 [00:01<00:00, 15.39it/s]\n",
      "100%|████████████████████████████████████████████████████████████████████████████████| 111/111 [00:07<00:00, 15.78it/s]\n",
      "  1%|▋                                                                                 | 1/111 [00:00<00:19,  5.73it/s]"
     ]
    },
    {
     "name": "stdout",
     "output_type": "stream",
     "text": [
      "epoch: 6, f1_test: 0.4646645613014278, f1_train: 0.5899189782980258\n"
     ]
    },
    {
     "name": "stderr",
     "output_type": "stream",
     "text": [
      "100%|████████████████████████████████████████████████████████████████████████████████| 111/111 [00:20<00:00,  5.51it/s]\n",
      "100%|██████████████████████████████████████████████████████████████████████████████████| 28/28 [00:01<00:00, 15.85it/s]\n",
      "100%|████████████████████████████████████████████████████████████████████████████████| 111/111 [00:06<00:00, 15.93it/s]\n",
      "  1%|▋                                                                                 | 1/111 [00:00<00:19,  5.73it/s]"
     ]
    },
    {
     "name": "stdout",
     "output_type": "stream",
     "text": [
      "epoch: 7, f1_test: 0.42652662357779414, f1_train: 0.5316646244026123\n"
     ]
    },
    {
     "name": "stderr",
     "output_type": "stream",
     "text": [
      "100%|████████████████████████████████████████████████████████████████████████████████| 111/111 [00:19<00:00,  5.58it/s]\n",
      "100%|██████████████████████████████████████████████████████████████████████████████████| 28/28 [00:01<00:00, 15.79it/s]\n",
      "100%|████████████████████████████████████████████████████████████████████████████████| 111/111 [00:07<00:00, 15.85it/s]\n",
      "  0%|                                                                                          | 0/111 [00:00<?, ?it/s]"
     ]
    },
    {
     "name": "stdout",
     "output_type": "stream",
     "text": [
      "epoch: 8, f1_test: 0.5092343651210142, f1_train: 0.6644574857329985\n"
     ]
    },
    {
     "name": "stderr",
     "output_type": "stream",
     "text": [
      "100%|████████████████████████████████████████████████████████████████████████████████| 111/111 [00:20<00:00,  5.43it/s]\n",
      "100%|██████████████████████████████████████████████████████████████████████████████████| 28/28 [00:01<00:00, 16.11it/s]\n",
      "100%|████████████████████████████████████████████████████████████████████████████████| 111/111 [00:07<00:00, 15.30it/s]\n",
      "  0%|                                                                                          | 0/111 [00:00<?, ?it/s]"
     ]
    },
    {
     "name": "stdout",
     "output_type": "stream",
     "text": [
      "epoch: 9, f1_test: 0.4249166192424077, f1_train: 0.5409535334697262\n"
     ]
    },
    {
     "name": "stderr",
     "output_type": "stream",
     "text": [
      "100%|████████████████████████████████████████████████████████████████████████████████| 111/111 [00:20<00:00,  5.38it/s]\n",
      "100%|██████████████████████████████████████████████████████████████████████████████████| 28/28 [00:01<00:00, 16.19it/s]\n",
      "100%|████████████████████████████████████████████████████████████████████████████████| 111/111 [00:06<00:00, 16.03it/s]\n",
      "  0%|                                                                                          | 0/111 [00:00<?, ?it/s]"
     ]
    },
    {
     "name": "stdout",
     "output_type": "stream",
     "text": [
      "epoch: 10, f1_test: 0.3835778361306821, f1_train: 0.5000991365543339\n"
     ]
    },
    {
     "name": "stderr",
     "output_type": "stream",
     "text": [
      "100%|████████████████████████████████████████████████████████████████████████████████| 111/111 [00:20<00:00,  5.45it/s]\n",
      "100%|██████████████████████████████████████████████████████████████████████████████████| 28/28 [00:01<00:00, 16.11it/s]\n",
      "100%|████████████████████████████████████████████████████████████████████████████████| 111/111 [00:06<00:00, 15.95it/s]\n",
      "  0%|                                                                                          | 0/111 [00:00<?, ?it/s]"
     ]
    },
    {
     "name": "stdout",
     "output_type": "stream",
     "text": [
      "epoch: 11, f1_test: 0.5131088204920109, f1_train: 0.6888254860538452\n"
     ]
    },
    {
     "name": "stderr",
     "output_type": "stream",
     "text": [
      "100%|████████████████████████████████████████████████████████████████████████████████| 111/111 [00:20<00:00,  5.40it/s]\n",
      "100%|██████████████████████████████████████████████████████████████████████████████████| 28/28 [00:01<00:00, 16.30it/s]\n",
      "100%|████████████████████████████████████████████████████████████████████████████████| 111/111 [00:06<00:00, 16.08it/s]\n",
      "  1%|▋                                                                                 | 1/111 [00:00<00:18,  5.80it/s]"
     ]
    },
    {
     "name": "stdout",
     "output_type": "stream",
     "text": [
      "epoch: 12, f1_test: 0.44122356638706683, f1_train: 0.5680819543204615\n"
     ]
    },
    {
     "name": "stderr",
     "output_type": "stream",
     "text": [
      "100%|████████████████████████████████████████████████████████████████████████████████| 111/111 [00:20<00:00,  5.51it/s]\n",
      "100%|██████████████████████████████████████████████████████████████████████████████████| 28/28 [00:01<00:00, 16.06it/s]\n",
      "100%|████████████████████████████████████████████████████████████████████████████████| 111/111 [00:06<00:00, 15.99it/s]\n",
      "  1%|▋                                                                                 | 1/111 [00:00<00:19,  5.70it/s]"
     ]
    },
    {
     "name": "stdout",
     "output_type": "stream",
     "text": [
      "epoch: 13, f1_test: 0.3394000043925574, f1_train: 0.433252534941317\n"
     ]
    },
    {
     "name": "stderr",
     "output_type": "stream",
     "text": [
      "100%|████████████████████████████████████████████████████████████████████████████████| 111/111 [00:20<00:00,  5.46it/s]\n",
      "100%|██████████████████████████████████████████████████████████████████████████████████| 28/28 [00:01<00:00, 15.71it/s]\n",
      "100%|████████████████████████████████████████████████████████████████████████████████| 111/111 [00:06<00:00, 15.86it/s]\n",
      "  1%|▋                                                                                 | 1/111 [00:00<00:19,  5.73it/s]"
     ]
    },
    {
     "name": "stdout",
     "output_type": "stream",
     "text": [
      "epoch: 14, f1_test: 0.335138380138072, f1_train: 0.42603532393024074\n"
     ]
    },
    {
     "name": "stderr",
     "output_type": "stream",
     "text": [
      "100%|████████████████████████████████████████████████████████████████████████████████| 111/111 [00:19<00:00,  5.57it/s]\n",
      "100%|██████████████████████████████████████████████████████████████████████████████████| 28/28 [00:01<00:00, 15.95it/s]\n",
      "100%|████████████████████████████████████████████████████████████████████████████████| 111/111 [00:07<00:00, 15.67it/s]\n",
      "  1%|▋                                                                                 | 1/111 [00:00<00:19,  5.76it/s]"
     ]
    },
    {
     "name": "stdout",
     "output_type": "stream",
     "text": [
      "epoch: 15, f1_test: 0.3886751849639099, f1_train: 0.5113809518255998\n"
     ]
    },
    {
     "name": "stderr",
     "output_type": "stream",
     "text": [
      "100%|████████████████████████████████████████████████████████████████████████████████| 111/111 [00:20<00:00,  5.44it/s]\n",
      "100%|██████████████████████████████████████████████████████████████████████████████████| 28/28 [00:01<00:00, 15.88it/s]\n",
      "100%|████████████████████████████████████████████████████████████████████████████████| 111/111 [00:07<00:00, 15.50it/s]\n",
      "  1%|▋                                                                                 | 1/111 [00:00<00:19,  5.67it/s]"
     ]
    },
    {
     "name": "stdout",
     "output_type": "stream",
     "text": [
      "epoch: 16, f1_test: 0.29349925353940537, f1_train: 0.391743313226006\n"
     ]
    },
    {
     "name": "stderr",
     "output_type": "stream",
     "text": [
      "100%|████████████████████████████████████████████████████████████████████████████████| 111/111 [00:20<00:00,  5.38it/s]\n",
      "100%|██████████████████████████████████████████████████████████████████████████████████| 28/28 [00:01<00:00, 15.83it/s]\n",
      "100%|████████████████████████████████████████████████████████████████████████████████| 111/111 [00:07<00:00, 15.76it/s]\n",
      "  0%|                                                                                          | 0/111 [00:00<?, ?it/s]"
     ]
    },
    {
     "name": "stdout",
     "output_type": "stream",
     "text": [
      "epoch: 17, f1_test: 0.4349071466108642, f1_train: 0.6064528439257368\n"
     ]
    },
    {
     "name": "stderr",
     "output_type": "stream",
     "text": [
      "100%|████████████████████████████████████████████████████████████████████████████████| 111/111 [00:20<00:00,  5.38it/s]\n",
      "100%|██████████████████████████████████████████████████████████████████████████████████| 28/28 [00:01<00:00, 16.26it/s]\n",
      "100%|████████████████████████████████████████████████████████████████████████████████| 111/111 [00:06<00:00, 16.15it/s]\n",
      "  1%|▋                                                                                 | 1/111 [00:00<00:19,  5.51it/s]"
     ]
    },
    {
     "name": "stdout",
     "output_type": "stream",
     "text": [
      "epoch: 18, f1_test: 0.4205349609481935, f1_train: 0.5774307879497314\n"
     ]
    },
    {
     "name": "stderr",
     "output_type": "stream",
     "text": [
      "100%|████████████████████████████████████████████████████████████████████████████████| 111/111 [00:20<00:00,  5.48it/s]\n",
      "100%|██████████████████████████████████████████████████████████████████████████████████| 28/28 [00:01<00:00, 16.02it/s]\n",
      "100%|████████████████████████████████████████████████████████████████████████████████| 111/111 [00:06<00:00, 15.99it/s]\n",
      "  1%|▋                                                                                 | 1/111 [00:00<00:19,  5.76it/s]"
     ]
    },
    {
     "name": "stdout",
     "output_type": "stream",
     "text": [
      "epoch: 19, f1_test: 0.37691840496291984, f1_train: 0.5182495789755446\n"
     ]
    },
    {
     "name": "stderr",
     "output_type": "stream",
     "text": [
      "100%|████████████████████████████████████████████████████████████████████████████████| 111/111 [00:20<00:00,  5.52it/s]\n",
      "100%|██████████████████████████████████████████████████████████████████████████████████| 28/28 [00:01<00:00, 16.06it/s]\n",
      "100%|████████████████████████████████████████████████████████████████████████████████| 111/111 [00:06<00:00, 16.07it/s]\n",
      "  1%|▋                                                                                 | 1/111 [00:00<00:19,  5.62it/s]"
     ]
    },
    {
     "name": "stdout",
     "output_type": "stream",
     "text": [
      "epoch: 20, f1_test: 0.3352161946077328, f1_train: 0.4556797589633302\n"
     ]
    },
    {
     "name": "stderr",
     "output_type": "stream",
     "text": [
      "100%|████████████████████████████████████████████████████████████████████████████████| 111/111 [00:20<00:00,  5.38it/s]\n",
      "100%|██████████████████████████████████████████████████████████████████████████████████| 28/28 [00:01<00:00, 15.92it/s]\n",
      "100%|████████████████████████████████████████████████████████████████████████████████| 111/111 [00:07<00:00, 15.61it/s]\n",
      "  0%|                                                                                          | 0/111 [00:00<?, ?it/s]"
     ]
    },
    {
     "name": "stdout",
     "output_type": "stream",
     "text": [
      "epoch: 21, f1_test: 0.6199583116536274, f1_train: 0.8270123710545805\n"
     ]
    },
    {
     "name": "stderr",
     "output_type": "stream",
     "text": [
      "100%|████████████████████████████████████████████████████████████████████████████████| 111/111 [00:20<00:00,  5.34it/s]\n",
      "100%|██████████████████████████████████████████████████████████████████████████████████| 28/28 [00:01<00:00, 16.24it/s]\n",
      "100%|████████████████████████████████████████████████████████████████████████████████| 111/111 [00:06<00:00, 15.96it/s]\n",
      "  1%|▋                                                                                 | 1/111 [00:00<00:19,  5.75it/s]"
     ]
    },
    {
     "name": "stdout",
     "output_type": "stream",
     "text": [
      "epoch: 22, f1_test: 0.4126405317684395, f1_train: 0.5611097555809542\n"
     ]
    },
    {
     "name": "stderr",
     "output_type": "stream",
     "text": [
      "100%|████████████████████████████████████████████████████████████████████████████████| 111/111 [00:20<00:00,  5.55it/s]\n",
      "100%|██████████████████████████████████████████████████████████████████████████████████| 28/28 [00:01<00:00, 16.31it/s]\n",
      "100%|████████████████████████████████████████████████████████████████████████████████| 111/111 [00:06<00:00, 16.10it/s]\n",
      "  1%|▋                                                                                 | 1/111 [00:00<00:19,  5.70it/s]"
     ]
    },
    {
     "name": "stdout",
     "output_type": "stream",
     "text": [
      "epoch: 23, f1_test: 0.3618245621004625, f1_train: 0.5150375298187903\n"
     ]
    },
    {
     "name": "stderr",
     "output_type": "stream",
     "text": [
      "100%|████████████████████████████████████████████████████████████████████████████████| 111/111 [00:19<00:00,  5.55it/s]\n",
      "100%|██████████████████████████████████████████████████████████████████████████████████| 28/28 [00:01<00:00, 16.09it/s]\n",
      "100%|████████████████████████████████████████████████████████████████████████████████| 111/111 [00:06<00:00, 16.11it/s]\n",
      "  1%|▋                                                                                 | 1/111 [00:00<00:19,  5.74it/s]"
     ]
    },
    {
     "name": "stdout",
     "output_type": "stream",
     "text": [
      "epoch: 24, f1_test: 0.5373891138958553, f1_train: 0.7001918258189092\n"
     ]
    },
    {
     "name": "stderr",
     "output_type": "stream",
     "text": [
      "100%|████████████████████████████████████████████████████████████████████████████████| 111/111 [00:20<00:00,  5.41it/s]\n",
      "100%|██████████████████████████████████████████████████████████████████████████████████| 28/28 [00:01<00:00, 15.19it/s]\n",
      "100%|████████████████████████████████████████████████████████████████████████████████| 111/111 [00:06<00:00, 15.96it/s]\n",
      "  1%|▋                                                                                 | 1/111 [00:00<00:19,  5.73it/s]"
     ]
    },
    {
     "name": "stdout",
     "output_type": "stream",
     "text": [
      "epoch: 25, f1_test: 0.35095054823899385, f1_train: 0.49331856679982394\n"
     ]
    },
    {
     "name": "stderr",
     "output_type": "stream",
     "text": [
      "100%|████████████████████████████████████████████████████████████████████████████████| 111/111 [00:20<00:00,  5.55it/s]\n",
      "100%|██████████████████████████████████████████████████████████████████████████████████| 28/28 [00:01<00:00, 16.12it/s]\n",
      "100%|████████████████████████████████████████████████████████████████████████████████| 111/111 [00:07<00:00, 15.43it/s]\n",
      "  0%|                                                                                          | 0/111 [00:00<?, ?it/s]"
     ]
    },
    {
     "name": "stdout",
     "output_type": "stream",
     "text": [
      "epoch: 26, f1_test: 0.48083317792031116, f1_train: 0.665983616382597\n"
     ]
    },
    {
     "name": "stderr",
     "output_type": "stream",
     "text": [
      "100%|████████████████████████████████████████████████████████████████████████████████| 111/111 [00:20<00:00,  5.47it/s]\n",
      "100%|██████████████████████████████████████████████████████████████████████████████████| 28/28 [00:01<00:00, 16.23it/s]\n",
      "100%|████████████████████████████████████████████████████████████████████████████████| 111/111 [00:07<00:00, 15.72it/s]\n",
      "  0%|                                                                                          | 0/111 [00:00<?, ?it/s]"
     ]
    },
    {
     "name": "stdout",
     "output_type": "stream",
     "text": [
      "epoch: 27, f1_test: 0.6470990736560361, f1_train: 0.8605664814724726\n"
     ]
    },
    {
     "name": "stderr",
     "output_type": "stream",
     "text": [
      "100%|████████████████████████████████████████████████████████████████████████████████| 111/111 [00:20<00:00,  5.41it/s]\n",
      "100%|██████████████████████████████████████████████████████████████████████████████████| 28/28 [00:01<00:00, 16.15it/s]\n",
      "100%|████████████████████████████████████████████████████████████████████████████████| 111/111 [00:06<00:00, 15.96it/s]\n",
      "  0%|                                                                                          | 0/111 [00:00<?, ?it/s]"
     ]
    },
    {
     "name": "stdout",
     "output_type": "stream",
     "text": [
      "epoch: 28, f1_test: 0.6663407006247712, f1_train: 0.8883417482518972\n"
     ]
    },
    {
     "name": "stderr",
     "output_type": "stream",
     "text": [
      "100%|████████████████████████████████████████████████████████████████████████████████| 111/111 [00:20<00:00,  5.52it/s]\n",
      "100%|██████████████████████████████████████████████████████████████████████████████████| 28/28 [00:01<00:00, 16.01it/s]\n",
      "100%|████████████████████████████████████████████████████████████████████████████████| 111/111 [00:06<00:00, 16.12it/s]\n",
      "  0%|                                                                                          | 0/111 [00:00<?, ?it/s]"
     ]
    },
    {
     "name": "stdout",
     "output_type": "stream",
     "text": [
      "epoch: 29, f1_test: 0.4565773271434686, f1_train: 0.6693839969285857\n"
     ]
    },
    {
     "name": "stderr",
     "output_type": "stream",
     "text": [
      "100%|████████████████████████████████████████████████████████████████████████████████| 111/111 [00:20<00:00,  5.45it/s]\n",
      "100%|██████████████████████████████████████████████████████████████████████████████████| 28/28 [00:01<00:00, 15.37it/s]\n",
      "100%|████████████████████████████████████████████████████████████████████████████████| 111/111 [00:06<00:00, 15.97it/s]\n",
      "  1%|▋                                                                                 | 1/111 [00:00<00:19,  5.76it/s]"
     ]
    },
    {
     "name": "stdout",
     "output_type": "stream",
     "text": [
      "epoch: 30, f1_test: 0.5620092393213574, f1_train: 0.7615909824624829\n"
     ]
    },
    {
     "name": "stderr",
     "output_type": "stream",
     "text": [
      "100%|████████████████████████████████████████████████████████████████████████████████| 111/111 [00:20<00:00,  5.48it/s]\n",
      "100%|██████████████████████████████████████████████████████████████████████████████████| 28/28 [00:01<00:00, 16.25it/s]\n",
      "100%|████████████████████████████████████████████████████████████████████████████████| 111/111 [00:06<00:00, 16.04it/s]\n",
      "  1%|▋                                                                                 | 1/111 [00:00<00:20,  5.25it/s]"
     ]
    },
    {
     "name": "stdout",
     "output_type": "stream",
     "text": [
      "epoch: 31, f1_test: 0.5222420479754895, f1_train: 0.7342292874139059\n"
     ]
    },
    {
     "name": "stderr",
     "output_type": "stream",
     "text": [
      "100%|████████████████████████████████████████████████████████████████████████████████| 111/111 [00:20<00:00,  5.45it/s]\n",
      "100%|██████████████████████████████████████████████████████████████████████████████████| 28/28 [00:01<00:00, 16.37it/s]\n",
      "100%|████████████████████████████████████████████████████████████████████████████████| 111/111 [00:06<00:00, 15.91it/s]\n",
      "  1%|▋                                                                                 | 1/111 [00:00<00:19,  5.78it/s]"
     ]
    },
    {
     "name": "stdout",
     "output_type": "stream",
     "text": [
      "epoch: 32, f1_test: 0.5969946836257364, f1_train: 0.8041965839919666\n"
     ]
    },
    {
     "name": "stderr",
     "output_type": "stream",
     "text": [
      "100%|████████████████████████████████████████████████████████████████████████████████| 111/111 [00:20<00:00,  5.42it/s]\n",
      "100%|██████████████████████████████████████████████████████████████████████████████████| 28/28 [00:01<00:00, 15.50it/s]\n",
      "100%|████████████████████████████████████████████████████████████████████████████████| 111/111 [00:06<00:00, 15.92it/s]\n",
      "  1%|▋                                                                                 | 1/111 [00:00<00:19,  5.74it/s]"
     ]
    },
    {
     "name": "stdout",
     "output_type": "stream",
     "text": [
      "epoch: 33, f1_test: 0.44431360840195816, f1_train: 0.6374317640171391\n"
     ]
    },
    {
     "name": "stderr",
     "output_type": "stream",
     "text": [
      "100%|████████████████████████████████████████████████████████████████████████████████| 111/111 [00:20<00:00,  5.50it/s]\n",
      "100%|██████████████████████████████████████████████████████████████████████████████████| 28/28 [00:01<00:00, 16.07it/s]\n",
      "100%|████████████████████████████████████████████████████████████████████████████████| 111/111 [00:06<00:00, 15.94it/s]\n",
      "  1%|▋                                                                                 | 1/111 [00:00<00:19,  5.73it/s]"
     ]
    },
    {
     "name": "stdout",
     "output_type": "stream",
     "text": [
      "epoch: 34, f1_test: 0.5459794487223567, f1_train: 0.7695775526166286\n"
     ]
    },
    {
     "name": "stderr",
     "output_type": "stream",
     "text": [
      "100%|████████████████████████████████████████████████████████████████████████████████| 111/111 [00:20<00:00,  5.53it/s]\n",
      "100%|██████████████████████████████████████████████████████████████████████████████████| 28/28 [00:01<00:00, 16.19it/s]\n",
      "100%|████████████████████████████████████████████████████████████████████████████████| 111/111 [00:06<00:00, 16.04it/s]\n",
      "  0%|                                                                                          | 0/111 [00:00<?, ?it/s]"
     ]
    },
    {
     "name": "stdout",
     "output_type": "stream",
     "text": [
      "epoch: 35, f1_test: 0.6288986684419829, f1_train: 0.869195564109793\n"
     ]
    },
    {
     "name": "stderr",
     "output_type": "stream",
     "text": [
      "100%|████████████████████████████████████████████████████████████████████████████████| 111/111 [00:19<00:00,  5.57it/s]\n",
      "100%|██████████████████████████████████████████████████████████████████████████████████| 28/28 [00:01<00:00, 16.31it/s]\n",
      "100%|████████████████████████████████████████████████████████████████████████████████| 111/111 [00:06<00:00, 16.07it/s]\n",
      "  1%|▋                                                                                 | 1/111 [00:00<00:18,  5.80it/s]"
     ]
    },
    {
     "name": "stdout",
     "output_type": "stream",
     "text": [
      "epoch: 36, f1_test: 0.6653891938846582, f1_train: 0.9039281328846952\n"
     ]
    },
    {
     "name": "stderr",
     "output_type": "stream",
     "text": [
      "100%|████████████████████████████████████████████████████████████████████████████████| 111/111 [00:19<00:00,  5.57it/s]\n",
      "100%|██████████████████████████████████████████████████████████████████████████████████| 28/28 [00:01<00:00, 16.32it/s]\n",
      "100%|████████████████████████████████████████████████████████████████████████████████| 111/111 [00:06<00:00, 16.01it/s]\n",
      "  0%|                                                                                          | 0/111 [00:00<?, ?it/s]"
     ]
    },
    {
     "name": "stdout",
     "output_type": "stream",
     "text": [
      "epoch: 37, f1_test: 0.5376056293756827, f1_train: 0.7329436757127408\n"
     ]
    },
    {
     "name": "stderr",
     "output_type": "stream",
     "text": [
      "100%|████████████████████████████████████████████████████████████████████████████████| 111/111 [00:20<00:00,  5.39it/s]\n",
      "100%|██████████████████████████████████████████████████████████████████████████████████| 28/28 [00:01<00:00, 16.30it/s]\n",
      "100%|████████████████████████████████████████████████████████████████████████████████| 111/111 [00:06<00:00, 16.02it/s]\n",
      "  0%|                                                                                          | 0/111 [00:00<?, ?it/s]"
     ]
    },
    {
     "name": "stdout",
     "output_type": "stream",
     "text": [
      "epoch: 38, f1_test: 0.6692835747983316, f1_train: 0.9079136227247735\n"
     ]
    },
    {
     "name": "stderr",
     "output_type": "stream",
     "text": [
      "100%|████████████████████████████████████████████████████████████████████████████████| 111/111 [00:20<00:00,  5.48it/s]\n",
      "100%|██████████████████████████████████████████████████████████████████████████████████| 28/28 [00:01<00:00, 16.03it/s]\n",
      "100%|████████████████████████████████████████████████████████████████████████████████| 111/111 [00:06<00:00, 16.25it/s]\n",
      "  1%|▋                                                                                 | 1/111 [00:00<00:19,  5.76it/s]"
     ]
    },
    {
     "name": "stdout",
     "output_type": "stream",
     "text": [
      "epoch: 39, f1_test: 0.41529352005054415, f1_train: 0.5945545468590321\n"
     ]
    },
    {
     "name": "stderr",
     "output_type": "stream",
     "text": [
      "100%|████████████████████████████████████████████████████████████████████████████████| 111/111 [00:20<00:00,  5.53it/s]\n",
      "100%|██████████████████████████████████████████████████████████████████████████████████| 28/28 [00:01<00:00, 16.38it/s]\n",
      "100%|████████████████████████████████████████████████████████████████████████████████| 111/111 [00:06<00:00, 15.99it/s]\n",
      "  1%|▋                                                                                 | 1/111 [00:00<00:19,  5.76it/s]"
     ]
    },
    {
     "name": "stdout",
     "output_type": "stream",
     "text": [
      "epoch: 40, f1_test: 0.6417201068278428, f1_train: 0.8728674169654544\n"
     ]
    },
    {
     "name": "stderr",
     "output_type": "stream",
     "text": [
      "100%|████████████████████████████████████████████████████████████████████████████████| 111/111 [00:20<00:00,  5.53it/s]\n",
      "100%|██████████████████████████████████████████████████████████████████████████████████| 28/28 [00:01<00:00, 16.09it/s]\n",
      "100%|████████████████████████████████████████████████████████████████████████████████| 111/111 [00:06<00:00, 16.07it/s]\n",
      "  0%|                                                                                          | 0/111 [00:00<?, ?it/s]"
     ]
    },
    {
     "name": "stdout",
     "output_type": "stream",
     "text": [
      "epoch: 41, f1_test: 0.6837068202244944, f1_train: 0.9152929786042026\n"
     ]
    },
    {
     "name": "stderr",
     "output_type": "stream",
     "text": [
      "100%|████████████████████████████████████████████████████████████████████████████████| 111/111 [00:19<00:00,  5.55it/s]\n",
      "100%|██████████████████████████████████████████████████████████████████████████████████| 28/28 [00:01<00:00, 16.20it/s]\n",
      "100%|████████████████████████████████████████████████████████████████████████████████| 111/111 [00:06<00:00, 16.16it/s]\n",
      "  1%|▋                                                                                 | 1/111 [00:00<00:19,  5.51it/s]"
     ]
    },
    {
     "name": "stdout",
     "output_type": "stream",
     "text": [
      "epoch: 42, f1_test: 0.6000342943499297, f1_train: 0.7974745101540247\n"
     ]
    },
    {
     "name": "stderr",
     "output_type": "stream",
     "text": [
      "100%|████████████████████████████████████████████████████████████████████████████████| 111/111 [00:20<00:00,  5.47it/s]\n",
      "100%|██████████████████████████████████████████████████████████████████████████████████| 28/28 [00:01<00:00, 16.08it/s]\n",
      "100%|████████████████████████████████████████████████████████████████████████████████| 111/111 [00:06<00:00, 16.08it/s]\n",
      "  1%|▋                                                                                 | 1/111 [00:00<00:19,  5.76it/s]"
     ]
    },
    {
     "name": "stdout",
     "output_type": "stream",
     "text": [
      "epoch: 43, f1_test: 0.4526031201836352, f1_train: 0.6325808039234881\n"
     ]
    },
    {
     "name": "stderr",
     "output_type": "stream",
     "text": [
      "100%|████████████████████████████████████████████████████████████████████████████████| 111/111 [00:20<00:00,  5.52it/s]\n",
      "100%|██████████████████████████████████████████████████████████████████████████████████| 28/28 [00:01<00:00, 16.37it/s]\n",
      "100%|████████████████████████████████████████████████████████████████████████████████| 111/111 [00:06<00:00, 16.19it/s]\n",
      "  1%|▋                                                                                 | 1/111 [00:00<00:18,  5.80it/s]"
     ]
    },
    {
     "name": "stdout",
     "output_type": "stream",
     "text": [
      "epoch: 44, f1_test: 0.6566026442162319, f1_train: 0.912468100420175\n"
     ]
    },
    {
     "name": "stderr",
     "output_type": "stream",
     "text": [
      "100%|████████████████████████████████████████████████████████████████████████████████| 111/111 [00:19<00:00,  5.56it/s]\n",
      "100%|██████████████████████████████████████████████████████████████████████████████████| 28/28 [00:01<00:00, 16.36it/s]\n",
      "100%|████████████████████████████████████████████████████████████████████████████████| 111/111 [00:06<00:00, 16.18it/s]\n",
      "  0%|                                                                                          | 0/111 [00:00<?, ?it/s]"
     ]
    },
    {
     "name": "stdout",
     "output_type": "stream",
     "text": [
      "epoch: 45, f1_test: 0.6757294965213754, f1_train: 0.9143442412468918\n"
     ]
    },
    {
     "name": "stderr",
     "output_type": "stream",
     "text": [
      "100%|████████████████████████████████████████████████████████████████████████████████| 111/111 [00:19<00:00,  5.58it/s]\n",
      "100%|██████████████████████████████████████████████████████████████████████████████████| 28/28 [00:01<00:00, 16.37it/s]\n",
      "100%|████████████████████████████████████████████████████████████████████████████████| 111/111 [00:06<00:00, 16.07it/s]\n",
      "  1%|▋                                                                                 | 1/111 [00:00<00:19,  5.75it/s]"
     ]
    },
    {
     "name": "stdout",
     "output_type": "stream",
     "text": [
      "epoch: 46, f1_test: 0.5339862669455323, f1_train: 0.7490421937083421\n"
     ]
    },
    {
     "name": "stderr",
     "output_type": "stream",
     "text": [
      "100%|████████████████████████████████████████████████████████████████████████████████| 111/111 [00:19<00:00,  5.63it/s]\n",
      "100%|██████████████████████████████████████████████████████████████████████████████████| 28/28 [00:01<00:00, 16.04it/s]\n",
      "100%|████████████████████████████████████████████████████████████████████████████████| 111/111 [00:06<00:00, 16.15it/s]\n",
      "  1%|▋                                                                                 | 1/111 [00:00<00:19,  5.76it/s]"
     ]
    },
    {
     "name": "stdout",
     "output_type": "stream",
     "text": [
      "epoch: 47, f1_test: 0.6517176095116306, f1_train: 0.9196794384003448\n"
     ]
    },
    {
     "name": "stderr",
     "output_type": "stream",
     "text": [
      "100%|████████████████████████████████████████████████████████████████████████████████| 111/111 [00:20<00:00,  5.54it/s]\n",
      "100%|██████████████████████████████████████████████████████████████████████████████████| 28/28 [00:01<00:00, 16.23it/s]\n",
      "100%|████████████████████████████████████████████████████████████████████████████████| 111/111 [00:06<00:00, 16.13it/s]\n",
      "  1%|▋                                                                                 | 1/111 [00:00<00:18,  5.82it/s]"
     ]
    },
    {
     "name": "stdout",
     "output_type": "stream",
     "text": [
      "epoch: 48, f1_test: 0.615291899998447, f1_train: 0.8506768824986605\n"
     ]
    },
    {
     "name": "stderr",
     "output_type": "stream",
     "text": [
      "100%|████████████████████████████████████████████████████████████████████████████████| 111/111 [00:19<00:00,  5.59it/s]\n",
      "100%|██████████████████████████████████████████████████████████████████████████████████| 28/28 [00:01<00:00, 16.36it/s]\n",
      "100%|████████████████████████████████████████████████████████████████████████████████| 111/111 [00:06<00:00, 16.12it/s]\n",
      "  1%|▋                                                                                 | 1/111 [00:00<00:19,  5.76it/s]"
     ]
    },
    {
     "name": "stdout",
     "output_type": "stream",
     "text": [
      "epoch: 49, f1_test: 0.5670342979045604, f1_train: 0.8066020337214403\n"
     ]
    },
    {
     "name": "stderr",
     "output_type": "stream",
     "text": [
      "100%|████████████████████████████████████████████████████████████████████████████████| 111/111 [00:19<00:00,  5.62it/s]\n",
      "100%|██████████████████████████████████████████████████████████████████████████████████| 28/28 [00:01<00:00, 15.72it/s]\n",
      "100%|████████████████████████████████████████████████████████████████████████████████| 111/111 [00:06<00:00, 15.98it/s]\n",
      "  1%|▋                                                                                 | 1/111 [00:00<00:19,  5.52it/s]"
     ]
    },
    {
     "name": "stdout",
     "output_type": "stream",
     "text": [
      "epoch: 50, f1_test: 0.6262293378380206, f1_train: 0.8744737869391519\n"
     ]
    },
    {
     "name": "stderr",
     "output_type": "stream",
     "text": [
      "100%|████████████████████████████████████████████████████████████████████████████████| 111/111 [00:19<00:00,  5.61it/s]\n",
      "100%|██████████████████████████████████████████████████████████████████████████████████| 28/28 [00:01<00:00, 16.41it/s]\n",
      "100%|████████████████████████████████████████████████████████████████████████████████| 111/111 [00:06<00:00, 16.11it/s]\n",
      "  1%|▋                                                                                 | 1/111 [00:00<00:18,  5.80it/s]"
     ]
    },
    {
     "name": "stdout",
     "output_type": "stream",
     "text": [
      "epoch: 51, f1_test: 0.658056708561894, f1_train: 0.917463896130126\n"
     ]
    },
    {
     "name": "stderr",
     "output_type": "stream",
     "text": [
      "100%|████████████████████████████████████████████████████████████████████████████████| 111/111 [00:20<00:00,  5.53it/s]\n",
      "100%|██████████████████████████████████████████████████████████████████████████████████| 28/28 [00:01<00:00, 16.29it/s]\n",
      "100%|████████████████████████████████████████████████████████████████████████████████| 111/111 [00:06<00:00, 16.04it/s]\n",
      "  0%|                                                                                          | 0/111 [00:00<?, ?it/s]"
     ]
    },
    {
     "name": "stdout",
     "output_type": "stream",
     "text": [
      "epoch: 52, f1_test: 0.6441272103170718, f1_train: 0.8848573898280826\n"
     ]
    },
    {
     "name": "stderr",
     "output_type": "stream",
     "text": [
      "100%|████████████████████████████████████████████████████████████████████████████████| 111/111 [00:20<00:00,  5.53it/s]\n",
      "100%|██████████████████████████████████████████████████████████████████████████████████| 28/28 [00:01<00:00, 16.30it/s]\n",
      "100%|████████████████████████████████████████████████████████████████████████████████| 111/111 [00:06<00:00, 16.19it/s]\n",
      "  0%|                                                                                          | 0/111 [00:00<?, ?it/s]"
     ]
    },
    {
     "name": "stdout",
     "output_type": "stream",
     "text": [
      "epoch: 53, f1_test: 0.6464069312039813, f1_train: 0.9043663902935994\n"
     ]
    },
    {
     "name": "stderr",
     "output_type": "stream",
     "text": [
      "100%|████████████████████████████████████████████████████████████████████████████████| 111/111 [00:19<00:00,  5.58it/s]\n",
      "100%|██████████████████████████████████████████████████████████████████████████████████| 28/28 [00:01<00:00, 16.17it/s]\n",
      "100%|████████████████████████████████████████████████████████████████████████████████| 111/111 [00:07<00:00, 15.82it/s]\n",
      "  1%|▋                                                                                 | 1/111 [00:00<00:19,  5.73it/s]"
     ]
    },
    {
     "name": "stdout",
     "output_type": "stream",
     "text": [
      "epoch: 54, f1_test: 0.6765848136317244, f1_train: 0.9266246777700022\n"
     ]
    },
    {
     "name": "stderr",
     "output_type": "stream",
     "text": [
      "100%|████████████████████████████████████████████████████████████████████████████████| 111/111 [00:20<00:00,  5.54it/s]\n",
      "100%|██████████████████████████████████████████████████████████████████████████████████| 28/28 [00:01<00:00, 16.50it/s]\n",
      "100%|████████████████████████████████████████████████████████████████████████████████| 111/111 [00:06<00:00, 16.05it/s]\n",
      "  0%|                                                                                          | 0/111 [00:00<?, ?it/s]"
     ]
    },
    {
     "name": "stdout",
     "output_type": "stream",
     "text": [
      "epoch: 55, f1_test: 0.6599031216507156, f1_train: 0.9135414686778368\n"
     ]
    },
    {
     "name": "stderr",
     "output_type": "stream",
     "text": [
      "100%|████████████████████████████████████████████████████████████████████████████████| 111/111 [00:20<00:00,  5.39it/s]\n",
      "100%|██████████████████████████████████████████████████████████████████████████████████| 28/28 [00:01<00:00, 16.37it/s]\n",
      "100%|████████████████████████████████████████████████████████████████████████████████| 111/111 [00:06<00:00, 15.86it/s]\n",
      "  1%|▋                                                                                 | 1/111 [00:00<00:19,  5.63it/s]"
     ]
    },
    {
     "name": "stdout",
     "output_type": "stream",
     "text": [
      "epoch: 56, f1_test: 0.6688775713372931, f1_train: 0.93100614144544\n"
     ]
    },
    {
     "name": "stderr",
     "output_type": "stream",
     "text": [
      "100%|████████████████████████████████████████████████████████████████████████████████| 111/111 [00:20<00:00,  5.43it/s]\n",
      "100%|██████████████████████████████████████████████████████████████████████████████████| 28/28 [00:01<00:00, 16.05it/s]\n",
      "100%|████████████████████████████████████████████████████████████████████████████████| 111/111 [00:06<00:00, 15.93it/s]\n",
      "  1%|▋                                                                                 | 1/111 [00:00<00:19,  5.73it/s]"
     ]
    },
    {
     "name": "stdout",
     "output_type": "stream",
     "text": [
      "epoch: 57, f1_test: 0.6611268250012098, f1_train: 0.9155547480022036\n"
     ]
    },
    {
     "name": "stderr",
     "output_type": "stream",
     "text": [
      "100%|████████████████████████████████████████████████████████████████████████████████| 111/111 [00:20<00:00,  5.55it/s]\n",
      "100%|██████████████████████████████████████████████████████████████████████████████████| 28/28 [00:01<00:00, 15.98it/s]\n",
      "100%|████████████████████████████████████████████████████████████████████████████████| 111/111 [00:06<00:00, 16.03it/s]\n",
      "  1%|▋                                                                                 | 1/111 [00:00<00:19,  5.59it/s]"
     ]
    },
    {
     "name": "stdout",
     "output_type": "stream",
     "text": [
      "epoch: 58, f1_test: 0.6640250597480806, f1_train: 0.9273883164658699\n"
     ]
    },
    {
     "name": "stderr",
     "output_type": "stream",
     "text": [
      "100%|████████████████████████████████████████████████████████████████████████████████| 111/111 [00:20<00:00,  5.54it/s]\n",
      "100%|██████████████████████████████████████████████████████████████████████████████████| 28/28 [00:01<00:00, 15.73it/s]\n",
      "100%|████████████████████████████████████████████████████████████████████████████████| 111/111 [00:06<00:00, 15.94it/s]\n",
      "  0%|                                                                                          | 0/111 [00:00<?, ?it/s]"
     ]
    },
    {
     "name": "stdout",
     "output_type": "stream",
     "text": [
      "epoch: 59, f1_test: 0.6857137070038241, f1_train: 0.9230368295014363\n"
     ]
    },
    {
     "name": "stderr",
     "output_type": "stream",
     "text": [
      "100%|████████████████████████████████████████████████████████████████████████████████| 111/111 [00:20<00:00,  5.39it/s]\n",
      "100%|██████████████████████████████████████████████████████████████████████████████████| 28/28 [00:01<00:00, 15.91it/s]\n",
      "100%|████████████████████████████████████████████████████████████████████████████████| 111/111 [00:06<00:00, 16.14it/s]\n",
      "  1%|▋                                                                                 | 1/111 [00:00<00:19,  5.63it/s]"
     ]
    },
    {
     "name": "stdout",
     "output_type": "stream",
     "text": [
      "epoch: 60, f1_test: 0.652497251802398, f1_train: 0.9171674087878083\n"
     ]
    },
    {
     "name": "stderr",
     "output_type": "stream",
     "text": [
      "100%|████████████████████████████████████████████████████████████████████████████████| 111/111 [00:20<00:00,  5.47it/s]\n",
      "100%|██████████████████████████████████████████████████████████████████████████████████| 28/28 [00:01<00:00, 15.95it/s]\n",
      "100%|████████████████████████████████████████████████████████████████████████████████| 111/111 [00:06<00:00, 15.95it/s]\n",
      "  1%|▋                                                                                 | 1/111 [00:00<00:19,  5.63it/s]"
     ]
    },
    {
     "name": "stdout",
     "output_type": "stream",
     "text": [
      "epoch: 61, f1_test: 0.622136202279386, f1_train: 0.8623621842266891\n"
     ]
    },
    {
     "name": "stderr",
     "output_type": "stream",
     "text": [
      "100%|████████████████████████████████████████████████████████████████████████████████| 111/111 [00:20<00:00,  5.48it/s]\n",
      "100%|██████████████████████████████████████████████████████████████████████████████████| 28/28 [00:01<00:00, 16.47it/s]\n",
      "100%|████████████████████████████████████████████████████████████████████████████████| 111/111 [00:06<00:00, 16.16it/s]\n",
      "  1%|▋                                                                                 | 1/111 [00:00<00:18,  5.83it/s]"
     ]
    },
    {
     "name": "stdout",
     "output_type": "stream",
     "text": [
      "epoch: 62, f1_test: 0.6746720126569454, f1_train: 0.9272189713691552\n"
     ]
    },
    {
     "name": "stderr",
     "output_type": "stream",
     "text": [
      "100%|████████████████████████████████████████████████████████████████████████████████| 111/111 [00:19<00:00,  5.58it/s]\n",
      "100%|██████████████████████████████████████████████████████████████████████████████████| 28/28 [00:01<00:00, 15.97it/s]\n",
      "100%|████████████████████████████████████████████████████████████████████████████████| 111/111 [00:06<00:00, 16.14it/s]\n",
      "  1%|▋                                                                                 | 1/111 [00:00<00:18,  5.83it/s]"
     ]
    },
    {
     "name": "stdout",
     "output_type": "stream",
     "text": [
      "epoch: 63, f1_test: 0.6778443913668314, f1_train: 0.9259860087926601\n"
     ]
    },
    {
     "name": "stderr",
     "output_type": "stream",
     "text": [
      "100%|████████████████████████████████████████████████████████████████████████████████| 111/111 [00:20<00:00,  5.50it/s]\n",
      "100%|██████████████████████████████████████████████████████████████████████████████████| 28/28 [00:01<00:00, 16.42it/s]\n",
      "100%|████████████████████████████████████████████████████████████████████████████████| 111/111 [00:06<00:00, 16.15it/s]\n",
      "  1%|▋                                                                                 | 1/111 [00:00<00:19,  5.78it/s]"
     ]
    },
    {
     "name": "stdout",
     "output_type": "stream",
     "text": [
      "epoch: 64, f1_test: 0.6647037916976105, f1_train: 0.9300418693632009\n"
     ]
    },
    {
     "name": "stderr",
     "output_type": "stream",
     "text": [
      "100%|████████████████████████████████████████████████████████████████████████████████| 111/111 [00:19<00:00,  5.58it/s]\n",
      "100%|██████████████████████████████████████████████████████████████████████████████████| 28/28 [00:01<00:00, 16.22it/s]\n",
      "100%|████████████████████████████████████████████████████████████████████████████████| 111/111 [00:06<00:00, 16.12it/s]\n",
      "  1%|▋                                                                                 | 1/111 [00:00<00:20,  5.40it/s]"
     ]
    },
    {
     "name": "stdout",
     "output_type": "stream",
     "text": [
      "epoch: 65, f1_test: 0.6179663926652378, f1_train: 0.8774312296448255\n"
     ]
    },
    {
     "name": "stderr",
     "output_type": "stream",
     "text": [
      "100%|████████████████████████████████████████████████████████████████████████████████| 111/111 [00:19<00:00,  5.56it/s]\n",
      "100%|██████████████████████████████████████████████████████████████████████████████████| 28/28 [00:01<00:00, 16.27it/s]\n",
      "100%|████████████████████████████████████████████████████████████████████████████████| 111/111 [00:06<00:00, 16.28it/s]\n",
      "  1%|▋                                                                                 | 1/111 [00:00<00:19,  5.72it/s]"
     ]
    },
    {
     "name": "stdout",
     "output_type": "stream",
     "text": [
      "epoch: 66, f1_test: 0.6748544075123886, f1_train: 0.9247069730604505\n"
     ]
    },
    {
     "name": "stderr",
     "output_type": "stream",
     "text": [
      "100%|████████████████████████████████████████████████████████████████████████████████| 111/111 [00:20<00:00,  5.49it/s]\n",
      "100%|██████████████████████████████████████████████████████████████████████████████████| 28/28 [00:01<00:00, 16.02it/s]\n",
      "100%|████████████████████████████████████████████████████████████████████████████████| 111/111 [00:06<00:00, 16.17it/s]\n",
      "  1%|▋                                                                                 | 1/111 [00:00<00:18,  5.80it/s]"
     ]
    },
    {
     "name": "stdout",
     "output_type": "stream",
     "text": [
      "epoch: 67, f1_test: 0.6481230470376402, f1_train: 0.9080231070353267\n"
     ]
    },
    {
     "name": "stderr",
     "output_type": "stream",
     "text": [
      "100%|████████████████████████████████████████████████████████████████████████████████| 111/111 [00:19<00:00,  5.60it/s]\n",
      "100%|██████████████████████████████████████████████████████████████████████████████████| 28/28 [00:01<00:00, 16.52it/s]\n",
      "100%|████████████████████████████████████████████████████████████████████████████████| 111/111 [00:06<00:00, 16.17it/s]\n",
      "  1%|▋                                                                                 | 1/111 [00:00<00:18,  5.81it/s]"
     ]
    },
    {
     "name": "stdout",
     "output_type": "stream",
     "text": [
      "epoch: 68, f1_test: 0.6610378917089842, f1_train: 0.9078407965871856\n"
     ]
    },
    {
     "name": "stderr",
     "output_type": "stream",
     "text": [
      "100%|████████████████████████████████████████████████████████████████████████████████| 111/111 [00:19<00:00,  5.62it/s]\n",
      "100%|██████████████████████████████████████████████████████████████████████████████████| 28/28 [00:01<00:00, 16.26it/s]\n",
      "100%|████████████████████████████████████████████████████████████████████████████████| 111/111 [00:06<00:00, 16.20it/s]\n",
      "  0%|                                                                                          | 0/111 [00:00<?, ?it/s]"
     ]
    },
    {
     "name": "stdout",
     "output_type": "stream",
     "text": [
      "epoch: 69, f1_test: 0.6417933759288589, f1_train: 0.9138521827787459\n"
     ]
    },
    {
     "name": "stderr",
     "output_type": "stream",
     "text": [
      "100%|████████████████████████████████████████████████████████████████████████████████| 111/111 [00:19<00:00,  5.58it/s]\n",
      "100%|██████████████████████████████████████████████████████████████████████████████████| 28/28 [00:01<00:00, 15.96it/s]\n",
      "100%|████████████████████████████████████████████████████████████████████████████████| 111/111 [00:06<00:00, 16.25it/s]\n",
      "  1%|▋                                                                                 | 1/111 [00:00<00:19,  5.57it/s]"
     ]
    },
    {
     "name": "stdout",
     "output_type": "stream",
     "text": [
      "epoch: 70, f1_test: 0.6189612322001061, f1_train: 0.8826402586828687\n"
     ]
    },
    {
     "name": "stderr",
     "output_type": "stream",
     "text": [
      "100%|████████████████████████████████████████████████████████████████████████████████| 111/111 [00:19<00:00,  5.56it/s]\n",
      "100%|██████████████████████████████████████████████████████████████████████████████████| 28/28 [00:01<00:00, 16.27it/s]\n",
      "100%|████████████████████████████████████████████████████████████████████████████████| 111/111 [00:06<00:00, 16.21it/s]\n",
      "  0%|                                                                                          | 0/111 [00:00<?, ?it/s]"
     ]
    },
    {
     "name": "stdout",
     "output_type": "stream",
     "text": [
      "epoch: 71, f1_test: 0.681107137930939, f1_train: 0.9369466209284203\n"
     ]
    },
    {
     "name": "stderr",
     "output_type": "stream",
     "text": [
      "100%|████████████████████████████████████████████████████████████████████████████████| 111/111 [00:20<00:00,  5.52it/s]\n",
      "100%|██████████████████████████████████████████████████████████████████████████████████| 28/28 [00:01<00:00, 16.30it/s]\n",
      "100%|████████████████████████████████████████████████████████████████████████████████| 111/111 [00:06<00:00, 16.16it/s]\n",
      "  1%|▋                                                                                 | 1/111 [00:00<00:19,  5.73it/s]"
     ]
    },
    {
     "name": "stdout",
     "output_type": "stream",
     "text": [
      "epoch: 72, f1_test: 0.6775468382318417, f1_train: 0.9392338515427926\n"
     ]
    },
    {
     "name": "stderr",
     "output_type": "stream",
     "text": [
      "100%|████████████████████████████████████████████████████████████████████████████████| 111/111 [00:19<00:00,  5.63it/s]\n",
      "100%|██████████████████████████████████████████████████████████████████████████████████| 28/28 [00:01<00:00, 16.19it/s]\n",
      "100%|████████████████████████████████████████████████████████████████████████████████| 111/111 [00:06<00:00, 16.05it/s]\n",
      "  1%|▋                                                                                 | 1/111 [00:00<00:19,  5.57it/s]"
     ]
    },
    {
     "name": "stdout",
     "output_type": "stream",
     "text": [
      "epoch: 73, f1_test: 0.6521758373110458, f1_train: 0.9088424680134299\n"
     ]
    },
    {
     "name": "stderr",
     "output_type": "stream",
     "text": [
      "100%|████████████████████████████████████████████████████████████████████████████████| 111/111 [00:20<00:00,  5.53it/s]\n",
      "100%|██████████████████████████████████████████████████████████████████████████████████| 28/28 [00:01<00:00, 16.41it/s]\n",
      "100%|████████████████████████████████████████████████████████████████████████████████| 111/111 [00:07<00:00, 15.83it/s]\n",
      "  1%|▋                                                                                 | 1/111 [00:00<00:18,  5.80it/s]"
     ]
    },
    {
     "name": "stdout",
     "output_type": "stream",
     "text": [
      "epoch: 74, f1_test: 0.6599560631994338, f1_train: 0.9212655389217776\n"
     ]
    },
    {
     "name": "stderr",
     "output_type": "stream",
     "text": [
      "100%|████████████████████████████████████████████████████████████████████████████████| 111/111 [00:19<00:00,  5.57it/s]\n",
      "100%|██████████████████████████████████████████████████████████████████████████████████| 28/28 [00:01<00:00, 16.13it/s]\n",
      "100%|████████████████████████████████████████████████████████████████████████████████| 111/111 [00:06<00:00, 16.03it/s]\n",
      "  1%|▋                                                                                 | 1/111 [00:00<00:20,  5.33it/s]"
     ]
    },
    {
     "name": "stdout",
     "output_type": "stream",
     "text": [
      "epoch: 75, f1_test: 0.6759273751170672, f1_train: 0.9337429574882872\n"
     ]
    },
    {
     "name": "stderr",
     "output_type": "stream",
     "text": [
      "100%|████████████████████████████████████████████████████████████████████████████████| 111/111 [00:20<00:00,  5.51it/s]\n",
      "100%|██████████████████████████████████████████████████████████████████████████████████| 28/28 [00:01<00:00, 16.32it/s]\n",
      "100%|████████████████████████████████████████████████████████████████████████████████| 111/111 [00:06<00:00, 16.25it/s]\n",
      "  1%|▋                                                                                 | 1/111 [00:00<00:18,  5.81it/s]"
     ]
    },
    {
     "name": "stdout",
     "output_type": "stream",
     "text": [
      "epoch: 76, f1_test: 0.6580016831988608, f1_train: 0.9244144460881164\n"
     ]
    },
    {
     "name": "stderr",
     "output_type": "stream",
     "text": [
      "100%|████████████████████████████████████████████████████████████████████████████████| 111/111 [00:19<00:00,  5.59it/s]\n",
      "100%|██████████████████████████████████████████████████████████████████████████████████| 28/28 [00:01<00:00, 16.15it/s]\n",
      "100%|████████████████████████████████████████████████████████████████████████████████| 111/111 [00:07<00:00, 15.81it/s]\n",
      "  0%|                                                                                          | 0/111 [00:00<?, ?it/s]"
     ]
    },
    {
     "name": "stdout",
     "output_type": "stream",
     "text": [
      "epoch: 77, f1_test: 0.672174384415524, f1_train: 0.9219306674044372\n"
     ]
    },
    {
     "name": "stderr",
     "output_type": "stream",
     "text": [
      "100%|████████████████████████████████████████████████████████████████████████████████| 111/111 [00:20<00:00,  5.54it/s]\n",
      "100%|██████████████████████████████████████████████████████████████████████████████████| 28/28 [00:01<00:00, 15.87it/s]\n",
      "100%|████████████████████████████████████████████████████████████████████████████████| 111/111 [00:06<00:00, 15.93it/s]\n",
      "  1%|▋                                                                                 | 1/111 [00:00<00:19,  5.79it/s]"
     ]
    },
    {
     "name": "stdout",
     "output_type": "stream",
     "text": [
      "epoch: 78, f1_test: 0.6589766607446379, f1_train: 0.9176844465992555\n"
     ]
    },
    {
     "name": "stderr",
     "output_type": "stream",
     "text": [
      "100%|████████████████████████████████████████████████████████████████████████████████| 111/111 [00:19<00:00,  5.57it/s]\n",
      "100%|██████████████████████████████████████████████████████████████████████████████████| 28/28 [00:01<00:00, 16.24it/s]\n",
      "100%|████████████████████████████████████████████████████████████████████████████████| 111/111 [00:06<00:00, 16.05it/s]\n",
      "  1%|▋                                                                                 | 1/111 [00:00<00:18,  5.86it/s]"
     ]
    },
    {
     "name": "stdout",
     "output_type": "stream",
     "text": [
      "epoch: 79, f1_test: 0.6739804698787565, f1_train: 0.9256340311163674\n"
     ]
    },
    {
     "name": "stderr",
     "output_type": "stream",
     "text": [
      "100%|████████████████████████████████████████████████████████████████████████████████| 111/111 [00:20<00:00,  5.53it/s]\n",
      "100%|██████████████████████████████████████████████████████████████████████████████████| 28/28 [00:01<00:00, 16.37it/s]\n",
      "100%|████████████████████████████████████████████████████████████████████████████████| 111/111 [00:06<00:00, 16.14it/s]\n",
      "  1%|▋                                                                                 | 1/111 [00:00<00:19,  5.60it/s]"
     ]
    },
    {
     "name": "stdout",
     "output_type": "stream",
     "text": [
      "epoch: 80, f1_test: 0.6585553058852134, f1_train: 0.9026993155194782\n"
     ]
    },
    {
     "name": "stderr",
     "output_type": "stream",
     "text": [
      "100%|████████████████████████████████████████████████████████████████████████████████| 111/111 [00:19<00:00,  5.63it/s]\n",
      "100%|██████████████████████████████████████████████████████████████████████████████████| 28/28 [00:01<00:00, 16.18it/s]\n",
      "100%|████████████████████████████████████████████████████████████████████████████████| 111/111 [00:06<00:00, 16.27it/s]\n",
      "  1%|▋                                                                                 | 1/111 [00:00<00:19,  5.60it/s]"
     ]
    },
    {
     "name": "stdout",
     "output_type": "stream",
     "text": [
      "epoch: 81, f1_test: 0.644569865535121, f1_train: 0.9069660584530931\n"
     ]
    },
    {
     "name": "stderr",
     "output_type": "stream",
     "text": [
      "100%|████████████████████████████████████████████████████████████████████████████████| 111/111 [00:19<00:00,  5.56it/s]\n",
      "100%|██████████████████████████████████████████████████████████████████████████████████| 28/28 [00:01<00:00, 16.10it/s]\n",
      "100%|████████████████████████████████████████████████████████████████████████████████| 111/111 [00:07<00:00, 15.82it/s]\n",
      "  1%|▋                                                                                 | 1/111 [00:00<00:19,  5.75it/s]"
     ]
    },
    {
     "name": "stdout",
     "output_type": "stream",
     "text": [
      "epoch: 82, f1_test: 0.6749885424930135, f1_train: 0.9348106211948104\n"
     ]
    },
    {
     "name": "stderr",
     "output_type": "stream",
     "text": [
      "100%|████████████████████████████████████████████████████████████████████████████████| 111/111 [00:20<00:00,  5.53it/s]\n",
      "100%|██████████████████████████████████████████████████████████████████████████████████| 28/28 [00:01<00:00, 16.34it/s]\n",
      "100%|████████████████████████████████████████████████████████████████████████████████| 111/111 [00:06<00:00, 16.18it/s]\n",
      "  1%|▋                                                                                 | 1/111 [00:00<00:19,  5.76it/s]"
     ]
    },
    {
     "name": "stdout",
     "output_type": "stream",
     "text": [
      "epoch: 83, f1_test: 0.6819854383304192, f1_train: 0.9384501626246801\n"
     ]
    },
    {
     "name": "stderr",
     "output_type": "stream",
     "text": [
      "100%|████████████████████████████████████████████████████████████████████████████████| 111/111 [00:20<00:00,  5.50it/s]\n",
      "100%|██████████████████████████████████████████████████████████████████████████████████| 28/28 [00:01<00:00, 16.11it/s]\n",
      "100%|████████████████████████████████████████████████████████████████████████████████| 111/111 [00:06<00:00, 16.10it/s]\n",
      "  0%|                                                                                          | 0/111 [00:00<?, ?it/s]"
     ]
    },
    {
     "name": "stdout",
     "output_type": "stream",
     "text": [
      "epoch: 84, f1_test: 0.6621352896657493, f1_train: 0.9364633747859931\n"
     ]
    },
    {
     "name": "stderr",
     "output_type": "stream",
     "text": [
      "100%|████████████████████████████████████████████████████████████████████████████████| 111/111 [00:20<00:00,  5.49it/s]\n",
      "100%|██████████████████████████████████████████████████████████████████████████████████| 28/28 [00:01<00:00, 16.15it/s]\n",
      "100%|████████████████████████████████████████████████████████████████████████████████| 111/111 [00:06<00:00, 16.18it/s]\n",
      "  1%|▋                                                                                 | 1/111 [00:00<00:19,  5.79it/s]"
     ]
    },
    {
     "name": "stdout",
     "output_type": "stream",
     "text": [
      "epoch: 85, f1_test: 0.6658688342776625, f1_train: 0.9209225890513533\n"
     ]
    },
    {
     "name": "stderr",
     "output_type": "stream",
     "text": [
      "100%|████████████████████████████████████████████████████████████████████████████████| 111/111 [00:20<00:00,  5.55it/s]\n",
      "100%|██████████████████████████████████████████████████████████████████████████████████| 28/28 [00:01<00:00, 16.34it/s]\n",
      "100%|████████████████████████████████████████████████████████████████████████████████| 111/111 [00:06<00:00, 16.05it/s]\n",
      "  1%|▋                                                                                 | 1/111 [00:00<00:19,  5.76it/s]"
     ]
    },
    {
     "name": "stdout",
     "output_type": "stream",
     "text": [
      "epoch: 86, f1_test: 0.6739978680830954, f1_train: 0.9378139557273945\n"
     ]
    },
    {
     "name": "stderr",
     "output_type": "stream",
     "text": [
      "100%|████████████████████████████████████████████████████████████████████████████████| 111/111 [00:20<00:00,  5.53it/s]\n",
      "100%|██████████████████████████████████████████████████████████████████████████████████| 28/28 [00:01<00:00, 15.79it/s]\n",
      "100%|████████████████████████████████████████████████████████████████████████████████| 111/111 [00:07<00:00, 15.82it/s]\n",
      "  1%|▋                                                                                 | 1/111 [00:00<00:20,  5.43it/s]"
     ]
    },
    {
     "name": "stdout",
     "output_type": "stream",
     "text": [
      "epoch: 87, f1_test: 0.6666565270996936, f1_train: 0.9285927892841405\n"
     ]
    },
    {
     "name": "stderr",
     "output_type": "stream",
     "text": [
      "100%|████████████████████████████████████████████████████████████████████████████████| 111/111 [00:20<00:00,  5.47it/s]\n",
      "100%|██████████████████████████████████████████████████████████████████████████████████| 28/28 [00:01<00:00, 16.22it/s]\n",
      "100%|████████████████████████████████████████████████████████████████████████████████| 111/111 [00:06<00:00, 15.97it/s]\n",
      "  1%|▋                                                                                 | 1/111 [00:00<00:19,  5.76it/s]"
     ]
    },
    {
     "name": "stdout",
     "output_type": "stream",
     "text": [
      "epoch: 88, f1_test: 0.6614295842714765, f1_train: 0.9380489918781234\n"
     ]
    },
    {
     "name": "stderr",
     "output_type": "stream",
     "text": [
      "100%|████████████████████████████████████████████████████████████████████████████████| 111/111 [00:20<00:00,  5.41it/s]\n",
      "100%|██████████████████████████████████████████████████████████████████████████████████| 28/28 [00:01<00:00, 16.19it/s]\n",
      "100%|████████████████████████████████████████████████████████████████████████████████| 111/111 [00:06<00:00, 16.04it/s]\n",
      "  0%|                                                                                          | 0/111 [00:00<?, ?it/s]"
     ]
    },
    {
     "name": "stdout",
     "output_type": "stream",
     "text": [
      "epoch: 89, f1_test: 0.6792780089764776, f1_train: 0.9364731917463759\n"
     ]
    },
    {
     "name": "stderr",
     "output_type": "stream",
     "text": [
      "100%|████████████████████████████████████████████████████████████████████████████████| 111/111 [00:20<00:00,  5.40it/s]\n",
      "100%|██████████████████████████████████████████████████████████████████████████████████| 28/28 [00:01<00:00, 16.11it/s]\n",
      "100%|████████████████████████████████████████████████████████████████████████████████| 111/111 [00:06<00:00, 16.22it/s]\n",
      "  0%|                                                                                          | 0/111 [00:00<?, ?it/s]"
     ]
    },
    {
     "name": "stdout",
     "output_type": "stream",
     "text": [
      "epoch: 90, f1_test: 0.6738876757394161, f1_train: 0.9296145574853103\n"
     ]
    },
    {
     "name": "stderr",
     "output_type": "stream",
     "text": [
      "100%|████████████████████████████████████████████████████████████████████████████████| 111/111 [00:19<00:00,  5.58it/s]\n",
      "100%|██████████████████████████████████████████████████████████████████████████████████| 28/28 [00:01<00:00, 16.41it/s]\n",
      "100%|████████████████████████████████████████████████████████████████████████████████| 111/111 [00:06<00:00, 16.17it/s]\n",
      "  1%|▋                                                                                 | 1/111 [00:00<00:18,  5.86it/s]"
     ]
    },
    {
     "name": "stdout",
     "output_type": "stream",
     "text": [
      "epoch: 91, f1_test: 0.66401189094204, f1_train: 0.9325328282897076\n"
     ]
    },
    {
     "name": "stderr",
     "output_type": "stream",
     "text": [
      "100%|████████████████████████████████████████████████████████████████████████████████| 111/111 [00:19<00:00,  5.63it/s]\n",
      "100%|██████████████████████████████████████████████████████████████████████████████████| 28/28 [00:01<00:00, 16.08it/s]\n",
      "100%|████████████████████████████████████████████████████████████████████████████████| 111/111 [00:06<00:00, 16.12it/s]\n",
      "  1%|▋                                                                                 | 1/111 [00:00<00:18,  5.81it/s]"
     ]
    },
    {
     "name": "stdout",
     "output_type": "stream",
     "text": [
      "epoch: 92, f1_test: 0.6604252695095377, f1_train: 0.9221058666924552\n"
     ]
    },
    {
     "name": "stderr",
     "output_type": "stream",
     "text": [
      "100%|████████████████████████████████████████████████████████████████████████████████| 111/111 [00:19<00:00,  5.64it/s]\n",
      "100%|██████████████████████████████████████████████████████████████████████████████████| 28/28 [00:01<00:00, 16.06it/s]\n",
      "100%|████████████████████████████████████████████████████████████████████████████████| 111/111 [00:06<00:00, 16.11it/s]\n",
      "  1%|▋                                                                                 | 1/111 [00:00<00:19,  5.53it/s]"
     ]
    },
    {
     "name": "stdout",
     "output_type": "stream",
     "text": [
      "epoch: 93, f1_test: 0.6492606273153192, f1_train: 0.9280196789557409\n"
     ]
    },
    {
     "name": "stderr",
     "output_type": "stream",
     "text": [
      "100%|████████████████████████████████████████████████████████████████████████████████| 111/111 [00:20<00:00,  5.54it/s]\n",
      "100%|██████████████████████████████████████████████████████████████████████████████████| 28/28 [00:01<00:00, 15.99it/s]\n",
      "100%|████████████████████████████████████████████████████████████████████████████████| 111/111 [00:06<00:00, 16.17it/s]\n",
      "  1%|▋                                                                                 | 1/111 [00:00<00:20,  5.32it/s]"
     ]
    },
    {
     "name": "stdout",
     "output_type": "stream",
     "text": [
      "epoch: 94, f1_test: 0.6645673958948111, f1_train: 0.922659081625964\n"
     ]
    },
    {
     "name": "stderr",
     "output_type": "stream",
     "text": [
      "100%|████████████████████████████████████████████████████████████████████████████████| 111/111 [00:19<00:00,  5.59it/s]\n",
      "100%|██████████████████████████████████████████████████████████████████████████████████| 28/28 [00:01<00:00, 16.36it/s]\n",
      "100%|████████████████████████████████████████████████████████████████████████████████| 111/111 [00:06<00:00, 16.21it/s]\n",
      "  1%|▋                                                                                 | 1/111 [00:00<00:19,  5.75it/s]"
     ]
    },
    {
     "name": "stdout",
     "output_type": "stream",
     "text": [
      "epoch: 95, f1_test: 0.6839194522216637, f1_train: 0.9249283311012638\n"
     ]
    },
    {
     "name": "stderr",
     "output_type": "stream",
     "text": [
      "100%|████████████████████████████████████████████████████████████████████████████████| 111/111 [00:19<00:00,  5.58it/s]\n",
      "100%|██████████████████████████████████████████████████████████████████████████████████| 28/28 [00:01<00:00, 16.19it/s]\n",
      "100%|████████████████████████████████████████████████████████████████████████████████| 111/111 [00:06<00:00, 16.17it/s]\n",
      "  1%|▋                                                                                 | 1/111 [00:00<00:19,  5.73it/s]"
     ]
    },
    {
     "name": "stdout",
     "output_type": "stream",
     "text": [
      "epoch: 96, f1_test: 0.6591633821628944, f1_train: 0.9276766583748639\n"
     ]
    },
    {
     "name": "stderr",
     "output_type": "stream",
     "text": [
      "100%|████████████████████████████████████████████████████████████████████████████████| 111/111 [00:19<00:00,  5.57it/s]\n",
      "100%|██████████████████████████████████████████████████████████████████████████████████| 28/28 [00:01<00:00, 16.39it/s]\n",
      "100%|████████████████████████████████████████████████████████████████████████████████| 111/111 [00:06<00:00, 15.98it/s]\n",
      "  1%|▋                                                                                 | 1/111 [00:00<00:18,  5.80it/s]"
     ]
    },
    {
     "name": "stdout",
     "output_type": "stream",
     "text": [
      "epoch: 97, f1_test: 0.634268836053596, f1_train: 0.9177560548402619\n"
     ]
    },
    {
     "name": "stderr",
     "output_type": "stream",
     "text": [
      "100%|████████████████████████████████████████████████████████████████████████████████| 111/111 [00:20<00:00,  5.54it/s]\n",
      "100%|██████████████████████████████████████████████████████████████████████████████████| 28/28 [00:01<00:00, 16.06it/s]\n",
      "100%|████████████████████████████████████████████████████████████████████████████████| 111/111 [00:06<00:00, 16.06it/s]\n",
      "  0%|                                                                                          | 0/111 [00:00<?, ?it/s]"
     ]
    },
    {
     "name": "stdout",
     "output_type": "stream",
     "text": [
      "epoch: 98, f1_test: 0.6770884054232456, f1_train: 0.9257621503267389\n"
     ]
    },
    {
     "name": "stderr",
     "output_type": "stream",
     "text": [
      "100%|████████████████████████████████████████████████████████████████████████████████| 111/111 [00:20<00:00,  5.47it/s]\n",
      "100%|██████████████████████████████████████████████████████████████████████████████████| 28/28 [00:01<00:00, 16.22it/s]\n",
      "100%|████████████████████████████████████████████████████████████████████████████████| 111/111 [00:06<00:00, 16.12it/s]"
     ]
    },
    {
     "name": "stdout",
     "output_type": "stream",
     "text": [
      "epoch: 99, f1_test: 0.669834541999295, f1_train: 0.9291603957554126\n"
     ]
    },
    {
     "name": "stderr",
     "output_type": "stream",
     "text": [
      "\n"
     ]
    }
   ],
   "source": [
    "n_epoch = 100\n",
    "best_f1 = 0\n",
    "for epoch in range(n_epoch):\n",
    "    model.train()\n",
    "    for wavs, labs in tqdm(train_loader):\n",
    "        optimizer.zero_grad()\n",
    "        wavs, labs = wavs.cuda(), labs.cuda()\n",
    "        outputs = model(wavs)\n",
    "        loss = criterion(outputs, labs)\n",
    "        loss.backward()\n",
    "        optimizer.step()\n",
    "#     if epoch % 10 == 0:\n",
    "    f1 = eval_model(model, val_loader)\n",
    "    f1_train = eval_model(model, train_loader)\n",
    "    print(f'epoch: {epoch}, f1_test: {f1}, f1_train: {f1_train}')\n",
    "    if f1 > best_f1:\n",
    "        best_f1 = f1\n",
    "        torch.save(model.state_dict(), '../baseline_fulldiv.pt')\n",
    "        \n",
    "    lr = lr * 0.95\n",
    "    for param_group in optimizer.param_groups:\n",
    "        param_group['lr'] = lr"
   ]
  },
  {
   "cell_type": "code",
   "execution_count": 44,
   "metadata": {},
   "outputs": [
    {
     "name": "stderr",
     "output_type": "stream",
     "text": [
      "\r",
      "  0%|                                                                                           | 0/93 [00:00<?, ?it/s]"
     ]
    },
    {
     "name": "stdout",
     "output_type": "stream",
     "text": [
      "Loaded pretrained weights for efficientnet-b0\n"
     ]
    },
    {
     "name": "stderr",
     "output_type": "stream",
     "text": [
      "C:\\Users\\e_shakhov\\Anaconda3\\lib\\site-packages\\ipykernel_launcher.py:42: UserWarning: Implicit dimension choice for softmax has been deprecated. Change the call to include dim=X as an argument.\n",
      "100%|██████████████████████████████████████████████████████████████████████████████████| 93/93 [00:14<00:00,  6.56it/s]\n"
     ]
    }
   ],
   "source": [
    "# make a model\n",
    "model_name = 'baseline_fulldiv.pt'\n",
    "model = BaseLineModel().cuda()\n",
    "model.load_state_dict(torch.load(os.path.join('..', model_name)))\n",
    "model.eval()\n",
    "forecast = []\n",
    "with torch.no_grad():\n",
    "    for wavs in tqdm(test_loader):\n",
    "        wavs = wavs.cuda()\n",
    "        outputs = model.inference(wavs)\n",
    "        outputs = outputs.detach().cpu().numpy().argmax(axis=1)\n",
    "        forecast.append(outputs)\n",
    "forecast = [x for sublist in forecast for x in sublist]\n",
    "decoder = {classes_dict[cl]:cl for cl in classes_dict}\n",
    "forecast = pd.Series(forecast).map(decoder)\n",
    "df_test['label'] = forecast\n",
    "df_test.to_csv(f'{model_name}.csv', index=None)"
   ]
  }
 ],
 "metadata": {
  "kernelspec": {
   "display_name": "Python 3",
   "language": "python",
   "name": "python3"
  },
  "language_info": {
   "codemirror_mode": {
    "name": "ipython",
    "version": 3
   },
   "file_extension": ".py",
   "mimetype": "text/x-python",
   "name": "python",
   "nbconvert_exporter": "python",
   "pygments_lexer": "ipython3",
   "version": "3.7.6"
  }
 },
 "nbformat": 4,
 "nbformat_minor": 4
}
